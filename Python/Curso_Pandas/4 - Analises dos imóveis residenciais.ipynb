{
 "cells": [
  {
   "cell_type": "markdown",
   "metadata": {},
   "source": [
    "# Relatório de Análise IV"
   ]
  },
  {
   "cell_type": "markdown",
   "metadata": {},
   "source": [
    "## Seleção e Frequências"
   ]
  },
  {
   "cell_type": "code",
   "execution_count": 14,
   "metadata": {},
   "outputs": [],
   "source": [
    "#Importando bibliotecas\n",
    "import pandas as pd"
   ]
  },
  {
   "cell_type": "code",
   "execution_count": 15,
   "metadata": {},
   "outputs": [
    {
     "data": {
      "text/html": [
       "<div>\n",
       "<style scoped>\n",
       "    .dataframe tbody tr th:only-of-type {\n",
       "        vertical-align: middle;\n",
       "    }\n",
       "\n",
       "    .dataframe tbody tr th {\n",
       "        vertical-align: top;\n",
       "    }\n",
       "\n",
       "    .dataframe thead th {\n",
       "        text-align: right;\n",
       "    }\n",
       "</style>\n",
       "<table border=\"1\" class=\"dataframe\">\n",
       "  <thead>\n",
       "    <tr style=\"text-align: right;\">\n",
       "      <th></th>\n",
       "      <th>Tipo</th>\n",
       "      <th>Bairro</th>\n",
       "      <th>Quartos</th>\n",
       "      <th>Vagas</th>\n",
       "      <th>Suites</th>\n",
       "      <th>Area</th>\n",
       "      <th>Valor</th>\n",
       "      <th>Condominio</th>\n",
       "      <th>IPTU</th>\n",
       "    </tr>\n",
       "  </thead>\n",
       "  <tbody>\n",
       "    <tr>\n",
       "      <th>0</th>\n",
       "      <td>Apartamento</td>\n",
       "      <td>Leblon</td>\n",
       "      <td>2</td>\n",
       "      <td>0</td>\n",
       "      <td>0</td>\n",
       "      <td>70</td>\n",
       "      <td>3000.0</td>\n",
       "      <td>760.0</td>\n",
       "      <td>NaN</td>\n",
       "    </tr>\n",
       "    <tr>\n",
       "      <th>1</th>\n",
       "      <td>Apartamento</td>\n",
       "      <td>Ipanema</td>\n",
       "      <td>4</td>\n",
       "      <td>2</td>\n",
       "      <td>2</td>\n",
       "      <td>210</td>\n",
       "      <td>28000.0</td>\n",
       "      <td>3020.0</td>\n",
       "      <td>9247.0</td>\n",
       "    </tr>\n",
       "    <tr>\n",
       "      <th>2</th>\n",
       "      <td>Apartamento</td>\n",
       "      <td>Vicente de Carvalho</td>\n",
       "      <td>1</td>\n",
       "      <td>0</td>\n",
       "      <td>0</td>\n",
       "      <td>55</td>\n",
       "      <td>600.0</td>\n",
       "      <td>NaN</td>\n",
       "      <td>16.0</td>\n",
       "    </tr>\n",
       "    <tr>\n",
       "      <th>3</th>\n",
       "      <td>Apartamento</td>\n",
       "      <td>Flamengo</td>\n",
       "      <td>3</td>\n",
       "      <td>0</td>\n",
       "      <td>0</td>\n",
       "      <td>115</td>\n",
       "      <td>2700.0</td>\n",
       "      <td>728.0</td>\n",
       "      <td>223.0</td>\n",
       "    </tr>\n",
       "    <tr>\n",
       "      <th>4</th>\n",
       "      <td>Apartamento</td>\n",
       "      <td>Bento Ribeiro</td>\n",
       "      <td>2</td>\n",
       "      <td>1</td>\n",
       "      <td>0</td>\n",
       "      <td>53</td>\n",
       "      <td>900.0</td>\n",
       "      <td>510.0</td>\n",
       "      <td>NaN</td>\n",
       "    </tr>\n",
       "  </tbody>\n",
       "</table>\n",
       "</div>"
      ],
      "text/plain": [
       "          Tipo               Bairro  Quartos  Vagas  Suites  Area    Valor  \\\n",
       "0  Apartamento               Leblon        2      0       0    70   3000.0   \n",
       "1  Apartamento              Ipanema        4      2       2   210  28000.0   \n",
       "2  Apartamento  Vicente de Carvalho        1      0       0    55    600.0   \n",
       "3  Apartamento             Flamengo        3      0       0   115   2700.0   \n",
       "4  Apartamento        Bento Ribeiro        2      1       0    53    900.0   \n",
       "\n",
       "   Condominio    IPTU  \n",
       "0       760.0     NaN  \n",
       "1      3020.0  9247.0  \n",
       "2         NaN    16.0  \n",
       "3       728.0   223.0  \n",
       "4       510.0     NaN  "
      ]
     },
     "execution_count": 15,
     "metadata": {},
     "output_type": "execute_result"
    }
   ],
   "source": [
    "#Leitura da base de dados (csv) e criação do DataFrame \n",
    "dados = pd.read_csv('Dados/aluguel_residencial.csv', sep = ';')\n",
    "dados.head()"
   ]
  },
  {
   "cell_type": "code",
   "execution_count": 16,
   "metadata": {},
   "outputs": [
    {
     "name": "stdout",
     "output_type": "stream",
     "text": [
      "o banco de dados possui 19532 Apartamentos.\n"
     ]
    }
   ],
   "source": [
    "#Selecione somente os imóveis classificados com tipo 'Apartamento'.\n",
    "selecao = dados[\"Tipo\"] == \"Apartamento\"\n",
    "n1 = dados[selecao].shape[0]\n",
    "print(\"o banco de dados possui\",n1, \"Apartamentos.\")"
   ]
  },
  {
   "cell_type": "code",
   "execution_count": 46,
   "metadata": {},
   "outputs": [
    {
     "data": {
      "text/plain": [
       "19532"
      ]
     },
     "execution_count": 46,
     "metadata": {},
     "output_type": "execute_result"
    }
   ],
   "source": [
    "dados.query('Tipo == \"Apartamento\"').shape[0]\n",
    "dados[dados[\"Tipo\"] == \"Apartamento\"].shape[0]"
   ]
  },
  {
   "cell_type": "code",
   "execution_count": 42,
   "metadata": {},
   "outputs": [
    {
     "name": "stdout",
     "output_type": "stream",
     "text": [
      "o banco de dados possui 2212 Casas, Casas de Condomínio ou Casas de Vila.\n"
     ]
    }
   ],
   "source": [
    "#Selecione os imóveis classificados com tipos 'Casa', 'Casa de Condomínio' e 'Casa de Vila'.\n",
    "selecao = (dados[\"Tipo\"] == 'Casa') | (dados[\"Tipo\"] == 'Casa de Condomínio') | (dados[\"Tipo\"] == 'Casa de Vila')\n",
    "n2 = dados[selecao].shape[0]\n",
    "print(\"o banco de dados possui\",n2, \"Casas, Casas de Condomínio ou Casas de Vila.\")"
   ]
  },
  {
   "cell_type": "code",
   "execution_count": 43,
   "metadata": {},
   "outputs": [
    {
     "data": {
      "text/plain": [
       "2212"
      ]
     },
     "execution_count": 43,
     "metadata": {},
     "output_type": "execute_result"
    }
   ],
   "source": [
    "#Outras formas de realizar querys na base de dados\n",
    "dados.query('Tipo == \"Casa\" | Tipo == \"Casa de Condomínio\" | Tipo == \"Casa de Vila\"').shape[0]\n",
    "dados[(dados[\"Tipo\"] == 'Casa') | (dados[\"Tipo\"] == 'Casa de Condomínio') | (dados[\"Tipo\"] == 'Casa de Vila')].shape[0]"
   ]
  },
  {
   "cell_type": "code",
   "execution_count": 44,
   "metadata": {},
   "outputs": [
    {
     "name": "stdout",
     "output_type": "stream",
     "text": [
      "o banco de dados possui 8719 Residências com área entre 60 e 100 metros quadrados.\n"
     ]
    }
   ],
   "source": [
    "#Selecione os imóveis com área entre 60 e 100 metros quadrados, incluindo os limites.\n",
    "selecao = (dados[\"Area\"] >= 60) & (dados[\"Area\"] <= 100)\n",
    "n3 = dados[selecao].shape[0]\n",
    "print(\"o banco de dados possui\",n3, \"Residências com área entre 60 e 100 metros quadrados.\")"
   ]
  },
  {
   "cell_type": "code",
   "execution_count": 45,
   "metadata": {},
   "outputs": [
    {
     "data": {
      "text/plain": [
       "8719"
      ]
     },
     "execution_count": 45,
     "metadata": {},
     "output_type": "execute_result"
    }
   ],
   "source": [
    "#Outras formas de realizar querys na base de dados\n",
    "dados.query('Area >= 60 & Area <= 100').shape[0]\n",
    "dados[(dados[\"Area\"] >= 60) & (dados[\"Area\"] <= 100)].shape[0]"
   ]
  },
  {
   "cell_type": "code",
   "execution_count": 19,
   "metadata": {},
   "outputs": [
    {
     "name": "stdout",
     "output_type": "stream",
     "text": [
      "o banco de dados possui 41 Residências com área entre 60 e 100 metros quadrados.\n"
     ]
    }
   ],
   "source": [
    "#Selecione os imóveis que tenham pelo menos 4 quartos e aluguel menor que R$ 2.000,00.\n",
    "selecao = (dados[\"Quartos\"] >= 4) & (dados[\"Valor\"] < 2000)\n",
    "n4 = dados[selecao].shape[0]\n",
    "print(\"o banco de dados possui\",n4, \"Residências com área entre 60 e 100 metros quadrados.\")"
   ]
  },
  {
   "cell_type": "code",
   "execution_count": 40,
   "metadata": {},
   "outputs": [
    {
     "data": {
      "text/plain": [
       "41"
      ]
     },
     "execution_count": 40,
     "metadata": {},
     "output_type": "execute_result"
    }
   ],
   "source": [
    "#Outras formas de realizar querys na base de dados\n",
    "dados.query('Quartos >= 4 & Valor < 2000').shape[0]\n",
    "dados[(dados[\"Quartos\"] >= 4) & (dados[\"Valor\"] < 2000)].shape[0]"
   ]
  },
  {
   "cell_type": "code",
   "execution_count": 21,
   "metadata": {},
   "outputs": [
    {
     "name": "stdout",
     "output_type": "stream",
     "text": [
      "O banco de dados possui 19532 Apartamentos.\n",
      "O banco de dados possui 2212 Casas, Casas de Condomínio ou Casas de Vila.\n",
      "O banco de dados possui 8719 Residências com área entre 60 e 100 metros quadrados.\n",
      "O banco de dados possui 41 Residências com área entre 60 e 100 metros quadrados.\n"
     ]
    }
   ],
   "source": [
    "print(\"O banco de dados possui\",n1, \"Apartamentos.\")\n",
    "print(\"O banco de dados possui\",n2, \"Casas, Casas de Condomínio ou Casas de Vila.\")\n",
    "print(\"O banco de dados possui\",n3, \"Residências com área entre 60 e 100 metros quadrados.\")\n",
    "print(\"O banco de dados possui\",n4, \"Residências com área entre 60 e 100 metros quadrados.\")"
   ]
  }
 ],
 "metadata": {
  "kernelspec": {
   "display_name": "Python 3",
   "language": "python",
   "name": "python3"
  },
  "language_info": {
   "codemirror_mode": {
    "name": "ipython",
    "version": 3
   },
   "file_extension": ".py",
   "mimetype": "text/x-python",
   "name": "python",
   "nbconvert_exporter": "python",
   "pygments_lexer": "ipython3",
   "version": "3.7.6"
  }
 },
 "nbformat": 4,
 "nbformat_minor": 4
}
